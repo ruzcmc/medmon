{
 "cells": [
  {
   "cell_type": "code",
   "execution_count": 45,
   "metadata": {},
   "outputs": [],
   "source": [
    "import pandas as pd\n",
    "import feedparser\n",
    "from datetime import datetime\n",
    "from time import mktime\n",
    "from newspaper import Article as art"
   ]
  },
  {
   "cell_type": "code",
   "execution_count": 46,
   "metadata": {},
   "outputs": [],
   "source": [
    "import re\n",
    "\n",
    "def cleanhtml(raw_html):\n",
    "    cleanr = re.compile('<.*?>|&([a-z0-9]+|#[0-9]{1,6}|#x[0-9a-f]{1,6});')\n",
    "    cleantext = re.sub(cleanr, '', raw_html)\n",
    "    return cleantext.rstrip()"
   ]
  },
  {
   "cell_type": "code",
   "execution_count": 47,
   "metadata": {},
   "outputs": [],
   "source": [
    "urls = [\"https://mediaindonesia.com/feed\",\"https://www.jawapos.com/nasional/feed/\",\"https://www.republika.co.id/rss\",\"https://feed.liputan6.com/rss\"]\n",
    "\n",
    "urlnocont = [\"https://rss.tempo.co/nasional\",\"https://www.antaranews.com/rss/terkini.xml\",\"https://www.antaranews.com/rss/top-news.xml\",\"https://www.suara.com/rss/news\",\"https://feed.liputan6.com/rss\",\"https://www.cnnindonesia.com/nasional/rss\",\"https://www.cnbcindonesia.com/news/rss\",]\n",
    "\n",
    "feed=[]\n",
    "for url in urls:\n",
    "    feeds = feedparser.parse(url)\n",
    "    feed.append(feeds)\n",
    "    \n",
    "#feed[0].feed"
   ]
  },
  {
   "cell_type": "code",
   "execution_count": 17,
   "metadata": {},
   "outputs": [
    {
     "data": {
      "text/plain": [
       "{'links': [{'rel': 'alternate',\n",
       "   'type': 'text/html',\n",
       "   'href': 'https://www.liputan6.com/news/read/4461643/gunung-merapi-disebut-sudah-erupsi-efusif-ini-penjelasannya?utm_source=lpfeed&utm_medium=lpfeed&utm_campaign=rss'},\n",
       "  {'length': '61314',\n",
       "   'type': 'image/jpeg',\n",
       "   'href': 'https://cdn1-production-images-kly.akamaized.net/mmNxJ-k4gRuMLlzG_nBvUPuiIIk=/673x379/smart/filters:quality(75):strip_icc():format(jpeg)/kly-media-production/medias/3351874/original/007630500_1610947013-WhatsApp_Image_2021-01-18_at_11.09.09.jpeg',\n",
       "   'rel': 'enclosure'}],\n",
       " 'link': 'https://www.liputan6.com/news/read/4461643/gunung-merapi-disebut-sudah-erupsi-efusif-ini-penjelasannya?utm_source=lpfeed&utm_medium=lpfeed&utm_campaign=rss',\n",
       " 'id': '4461643',\n",
       " 'guidislink': False,\n",
       " 'title': 'Gunung Merapi Disebut Sudah Erupsi Efusif, Ini Penjelasannya',\n",
       " 'title_detail': {'type': 'text/plain',\n",
       "  'language': None,\n",
       "  'base': 'https://feed.liputan6.com/rss',\n",
       "  'value': 'Gunung Merapi Disebut Sudah Erupsi Efusif, Ini Penjelasannya'},\n",
       " 'summary': '<div id=\"page-1\"><p><b>Liputan6.com, Jakarta -</b> Kepala Balai Penyelidikan dan Pengembangan Teknologi Kebencanaan Geologi (BPPTKG), Hanik Humaida menyatakan bahwa Gunung Merapi yang berada di perbatasan Kabupaten Sleman dan Jawa Tengah sudah mengalami <a href=\"https://www.liputan6.com/news/read/4460145/melihat-kondisi-terkini-gunung-merapi-yang-kembali-aktif\" title=\"erupsi \">erupsi </a>sejak 4 Januari 2021.</p>\\n<p>\"Aktivitas erupsi tersebut berupa guguran lava pijar dan awan panas sejauh maksimal 1.800 meter yang disebut dengan erupsi efusif,\" kata Hanik Humaida saat menyampaikan paparan perkembangan aktivitas Gunung <a href=\"https://www.liputan6.com/news/read/4460011/gunung-merapi-batuk-hingga-1000-meter-bnpb-wanti-masyarakat-waspada\" title=\"Merapi\">Merapi</a>, Selasa (19/1/2021).</p>\\n<p>Menurut dia, sampai saat ini telah terjadi 10 kali awan panas, yaitu pada 7 Januari sebanyak empat kali, pada 9, 13 dan 16 Januari masing-masing dua kali.</p>\\n<p>\"Kejadian tersebut dominasi luncuran sekitar 500 meter,\" katanya seperti dikutip <em>Antara</em>.</p>\\n<p>Ia mengatakan potensi dan daerah bahaya erupsi Gunung Merapi sudah berubah mengingat erupsi yang cenderung bersifat efusif serta memperhatikan arah erupsi yang mengarah ke barat.</p>\\n<p>\"Per 15 Januari 2020, distribusi probabilitas erupsi dominan ke arah erupsi efusif 40 persen dan eksplosif 21 persen, sehingga potensi erupsi eksplosif dan kubah dalam menurun signifikan,\" katanya.</p>\\n<p>Ia mengatakan, potensi bahaya saat ini berupa guguran lava dan awan panas pada sektor Sungai Kuning, Boyong, Bedog, Krasak, Bebeng, dan Putih sejauh maksimal lima kilometer.</p>\\n<p>\"Sedangkan lontaran material vulkanik jika terjadi letusan <a href=\"https://www.liputan6.com/news/read/4460145/melihat-kondisi-terkini-gunung-merapi-yang-kembali-aktif\" title=\"eksplosif \">eksplosif </a>dapat menjangkau sejauh maksimal tiga kilometer dari puncak. Jarak awan panas maksimal 1,8 kilometer. Masih cukup jauh dari pemukiman yang berjarak 6,5 kilometer,\" katanya.</p>\\n<p>\\xa0</p></div>\\n<!-- pagebreak -->\\n<div id=\"page-2\"><h2 class=\"multipage\">Aktivitas Seismik Menurun</h2>\\n<p>Hanik mengatakan, seiring berlangsungnya aktivitas seismik, deformasi, dan gas menurun signifikan. Kegempaan internal 27 kali per hari.</p>\\n<p>Deformasi 0.3 cm/hari. Gas vulkanik CO2 saat ini 600 ppm dalam tren menurun. Kejadian guguran tinggi, dominan bersumber di lokasi erupsi.</p>\\n<p>\"Berdasarkan data pemantauan seismik, deformasi, dan gas menurun. Tidak ada tekanan magma berlebih yang mencerminkan tambahan suplai magma,\" katanya.</p></div>\\n<!-- pagebreak -->\\n<div id=\"page-3\"><h2 class=\"multipage\">Saksikan video pilihan di bawah ini:</h2>\\n<div></div></div>',\n",
       " 'summary_detail': {'type': 'text/html',\n",
       "  'language': None,\n",
       "  'base': 'https://feed.liputan6.com/rss',\n",
       "  'value': '<div id=\"page-1\"><p><b>Liputan6.com, Jakarta -</b> Kepala Balai Penyelidikan dan Pengembangan Teknologi Kebencanaan Geologi (BPPTKG), Hanik Humaida menyatakan bahwa Gunung Merapi yang berada di perbatasan Kabupaten Sleman dan Jawa Tengah sudah mengalami <a href=\"https://www.liputan6.com/news/read/4460145/melihat-kondisi-terkini-gunung-merapi-yang-kembali-aktif\" title=\"erupsi \">erupsi </a>sejak 4 Januari 2021.</p>\\n<p>\"Aktivitas erupsi tersebut berupa guguran lava pijar dan awan panas sejauh maksimal 1.800 meter yang disebut dengan erupsi efusif,\" kata Hanik Humaida saat menyampaikan paparan perkembangan aktivitas Gunung <a href=\"https://www.liputan6.com/news/read/4460011/gunung-merapi-batuk-hingga-1000-meter-bnpb-wanti-masyarakat-waspada\" title=\"Merapi\">Merapi</a>, Selasa (19/1/2021).</p>\\n<p>Menurut dia, sampai saat ini telah terjadi 10 kali awan panas, yaitu pada 7 Januari sebanyak empat kali, pada 9, 13 dan 16 Januari masing-masing dua kali.</p>\\n<p>\"Kejadian tersebut dominasi luncuran sekitar 500 meter,\" katanya seperti dikutip <em>Antara</em>.</p>\\n<p>Ia mengatakan potensi dan daerah bahaya erupsi Gunung Merapi sudah berubah mengingat erupsi yang cenderung bersifat efusif serta memperhatikan arah erupsi yang mengarah ke barat.</p>\\n<p>\"Per 15 Januari 2020, distribusi probabilitas erupsi dominan ke arah erupsi efusif 40 persen dan eksplosif 21 persen, sehingga potensi erupsi eksplosif dan kubah dalam menurun signifikan,\" katanya.</p>\\n<p>Ia mengatakan, potensi bahaya saat ini berupa guguran lava dan awan panas pada sektor Sungai Kuning, Boyong, Bedog, Krasak, Bebeng, dan Putih sejauh maksimal lima kilometer.</p>\\n<p>\"Sedangkan lontaran material vulkanik jika terjadi letusan <a href=\"https://www.liputan6.com/news/read/4460145/melihat-kondisi-terkini-gunung-merapi-yang-kembali-aktif\" title=\"eksplosif \">eksplosif </a>dapat menjangkau sejauh maksimal tiga kilometer dari puncak. Jarak awan panas maksimal 1,8 kilometer. Masih cukup jauh dari pemukiman yang berjarak 6,5 kilometer,\" katanya.</p>\\n<p>\\xa0</p></div>\\n<!-- pagebreak -->\\n<div id=\"page-2\"><h2 class=\"multipage\">Aktivitas Seismik Menurun</h2>\\n<p>Hanik mengatakan, seiring berlangsungnya aktivitas seismik, deformasi, dan gas menurun signifikan. Kegempaan internal 27 kali per hari.</p>\\n<p>Deformasi 0.3 cm/hari. Gas vulkanik CO2 saat ini 600 ppm dalam tren menurun. Kejadian guguran tinggi, dominan bersumber di lokasi erupsi.</p>\\n<p>\"Berdasarkan data pemantauan seismik, deformasi, dan gas menurun. Tidak ada tekanan magma berlebih yang mencerminkan tambahan suplai magma,\" katanya.</p></div>\\n<!-- pagebreak -->\\n<div id=\"page-3\"><h2 class=\"multipage\">Saksikan video pilihan di bawah ini:</h2>\\n<div></div></div>'},\n",
       " 'published': 'Tue, 19 Jan 2021 23:27:58 +0700',\n",
       " 'published_parsed': time.struct_time(tm_year=2021, tm_mon=1, tm_mday=19, tm_hour=16, tm_min=27, tm_sec=58, tm_wday=1, tm_yday=19, tm_isdst=0),\n",
       " 'media_content': [{'url': 'https://cdn1-production-images-kly.akamaized.net/mmNxJ-k4gRuMLlzG_nBvUPuiIIk=/673x379/smart/filters:quality(75):strip_icc():format(jpeg)/kly-media-production/medias/3351874/original/007630500_1610947013-WhatsApp_Image_2021-01-18_at_11.09.09.jpeg',\n",
       "   'title': 'Penambakan Gunung Merapi, Senin (18/1/2021) pagi. (dok PVMBG)',\n",
       "   'caption': 'Penambakan Gunung Merapi, Senin (18/1/2021) pagi. (dok PVMBG)',\n",
       "   'alt': 'Penambakan Gunung Merapi, Senin (18/1/2021) pagi. (dok PVMBG)',\n",
       "   'copyright': 'Penambakan Gunung Merapi, Senin (18/1/2021) pagi. (dok PVMBG)',\n",
       "   'attribution': 'Penambakan Gunung Merapi, Senin (18/1/2021) pagi. (dok PVMBG)',\n",
       "   'type': 'image/jpeg',\n",
       "   'filesize': '61314'}],\n",
       " 'media_thumbnail': [{'medium': 'image',\n",
       "   'type': 'image/jpg',\n",
       "   'url': 'https://cdn1-production-images-kly.akamaized.net/mmNxJ-k4gRuMLlzG_nBvUPuiIIk=/673x379/smart/filters:quality(75):strip_icc():format(jpeg)/kly-media-production/medias/3351874/original/007630500_1610947013-WhatsApp_Image_2021-01-18_at_11.09.09.jpeg'}],\n",
       " 'href': '',\n",
       " 'media_copyright': 'Penambakan Gunung Merapi, Senin (18/1/2021) pagi. (dok PVMBG)',\n",
       " 'media_text': 'Penambakan Gunung Merapi, Senin (18/1/2021) pagi. (dok PVMBG)',\n",
       " 'content': [{'type': 'text/plain',\n",
       "   'language': None,\n",
       "   'base': 'https://feed.liputan6.com/rss',\n",
       "   'value': 'Penambakan Gunung Merapi, Senin (18/1/2021) pagi. (dok PVMBG)'}]}"
      ]
     },
     "execution_count": 17,
     "metadata": {},
     "output_type": "execute_result"
    }
   ],
   "source": [
    "feed[10].entries[0]"
   ]
  },
  {
   "cell_type": "code",
   "execution_count": 48,
   "metadata": {},
   "outputs": [
    {
     "name": "stdout",
     "output_type": "stream",
     "text": [
      "Empty DataFrame\n",
      "Columns: [title, content, summary, link, published, source]\n",
      "Index: []\n"
     ]
    }
   ],
   "source": [
    "df = pd.DataFrame({'title':[],'content':[],'summary':[],'link':[],'published':[],'source':[]})\n",
    "\n",
    "print(df)"
   ]
  },
  {
   "cell_type": "code",
   "execution_count": 44,
   "metadata": {
    "scrolled": false
   },
   "outputs": [
    {
     "data": {
      "text/plain": [
       "{'title': 'Republika Online RSS Feed',\n",
       " 'title_detail': {'type': 'text/plain',\n",
       "  'language': None,\n",
       "  'base': 'https://www.republika.co.id/rss',\n",
       "  'value': 'Republika Online RSS Feed'},\n",
       " 'links': [{'href': 'https://republika.co.id/rss',\n",
       "   'rel': 'self',\n",
       "   'type': 'application/rss+xml'},\n",
       "  {'rel': 'alternate',\n",
       "   'type': 'text/html',\n",
       "   'href': 'http://www.republika.co.id'}],\n",
       " 'link': 'http://www.republika.co.id',\n",
       " 'subtitle': '',\n",
       " 'subtitle_detail': {'type': 'text/html',\n",
       "  'language': None,\n",
       "  'base': 'https://www.republika.co.id/rss',\n",
       "  'value': ''},\n",
       " 'updated': 'Tue, 19 Jan 2021 23:57:29 +0700',\n",
       " 'updated_parsed': time.struct_time(tm_year=2021, tm_mon=1, tm_mday=19, tm_hour=16, tm_min=57, tm_sec=29, tm_wday=1, tm_yday=19, tm_isdst=0),\n",
       " 'generator_detail': {'name': 'http://www.republika.co.id/'},\n",
       " 'generator': 'http://www.republika.co.id/',\n",
       " 'language': 'id',\n",
       " 'sy_updateperiod': 'hourly',\n",
       " 'sy_updatefrequency': '1',\n",
       " 'image': {'href': 'https://static.republika.co.id/files/images/logo.png',\n",
       "  'title': 'Republika Online RSS Feed',\n",
       "  'title_detail': {'type': 'text/plain',\n",
       "   'language': None,\n",
       "   'base': 'https://www.republika.co.id/rss',\n",
       "   'value': 'Republika Online RSS Feed'},\n",
       "  'links': [{'rel': 'alternate',\n",
       "    'type': 'text/html',\n",
       "    'href': 'https://www.republika.co.id'}],\n",
       "  'link': 'https://www.republika.co.id'}}"
      ]
     },
     "execution_count": 44,
     "metadata": {},
     "output_type": "execute_result"
    }
   ],
   "source": [
    "feed[2].feed"
   ]
  },
  {
   "cell_type": "code",
   "execution_count": 49,
   "metadata": {},
   "outputs": [
    {
     "name": "stdout",
     "output_type": "stream",
     "text": [
      "                                                 title  \\\n",
      "0               Taiwan Batalkan Festival Besar Lampion   \n",
      "1    Sebut Bali Ramah LGBT, Kristeb Gray Ditangkap ...   \n",
      "2    Uji klinis Awal Sebut Vaksin Covid-19 Rusia 10...   \n",
      "3    Masyarakat Harus Disiplin Terapkan Protokol Ke...   \n",
      "4    Belasan Motor Bodong dari Jawa Gagal Diselundu...   \n",
      "..                                                 ...   \n",
      "210  6 Potret Kebersamaan Zaskia Adya Mecca dan Hay...   \n",
      "211  Sinopsis Sinetron SCTV Samudra Cinta: Ariel Pa...   \n",
      "212  Moeldoko: Babinsa - Babinkamtibnas Garda Terde...   \n",
      "213  6 Pemotretan Terbaru Yasmin Napper Ini Curi Pe...   \n",
      "214  Waktu, Tempat hingga Acara, Ini 8 Serba-Serbi ...   \n",
      "\n",
      "                                               content  \\\n",
      "0    Taiwan pada Selasa membatalkan festival besar ...   \n",
      "1    KANTOR Wilayah Hukum dan HAM Bali melakukan up...   \n",
      "2    Badan pengawas kesehatan konsumen di Rusia, Ro...   \n",
      "3    PAKAR epidemiologi Fakultas Kesehatan Masyarak...   \n",
      "4    SEKITAR 16 unit sepeda motor bodong atau tanpa...   \n",
      "..                                                 ...   \n",
      "210  Potret Kebersamaan Zaskia Mecca dan Haykal Kam...   \n",
      "211       Adegan sinetron Samudra Cinta (Dok Sinemart)   \n",
      "212  Kepala Staf Presiden RI, Jenderal TNI (Purn) M...   \n",
      "213     Yasmin Napper (Sumber: Instagram/yasminnapper)   \n",
      "214  Kandidat presiden dari Partai Demokrat, mantan...   \n",
      "\n",
      "                                               summary  \\\n",
      "0    Taiwan pada Selasa membatalkan festival besar ...   \n",
      "1    KANTOR Wilayah Hukum dan HAM Bali melakukan up...   \n",
      "2    Badan pengawas kesehatan konsumen di Rusia, Ro...   \n",
      "3    PAKAR epidemiologi Fakultas Kesehatan Masyarak...   \n",
      "4    SEKITAR 16 unit sepeda motor bodong atau tanpa...   \n",
      "..                                                 ...   \n",
      "210  Liputan6.com, Jakarta Nama Zaskia Adya Mecca d...   \n",
      "211  Liputan6.com, Jakarta Samudra Cinta melanjutka...   \n",
      "212  Liputan6.com, Jakarta - Kepala Staf Kepresiden...   \n",
      "213  Liputan6.com, Jakarta Aktris Yasmin Napper bel...   \n",
      "214  Liputan6.com, Washington D.C - Pelantikan Joe ...   \n",
      "\n",
      "                                                  link           published  \\\n",
      "0    https://mediaindonesia.com/read/detail/378367-... 2021-01-19 23:55:40   \n",
      "1    https://mediaindonesia.com/read/detail/378383-... 2021-01-19 23:55:19   \n",
      "2    https://mediaindonesia.com/read/detail/378380-... 2021-01-19 23:38:20   \n",
      "3    https://mediaindonesia.com/read/detail/378379-... 2021-01-19 23:35:43   \n",
      "4    https://mediaindonesia.com/read/detail/378378-... 2021-01-19 23:35:05   \n",
      "..                                                 ...                 ...   \n",
      "210  https://hot.liputan6.com/read/4461478/6-potret... 2021-01-19 13:55:03   \n",
      "211  https://www.liputan6.com/showbiz/read/4461604/... 2021-01-19 13:50:23   \n",
      "212  https://www.liputan6.com/news/read/4461319/moe... 2021-01-19 13:44:50   \n",
      "213  https://hot.liputan6.com/read/4461463/6-pemotr... 2021-01-19 13:40:14   \n",
      "214  https://www.liputan6.com/global/read/4461522/w... 2021-01-19 13:40:00   \n",
      "\n",
      "                 source  \n",
      "0    Mediaindonesia.com  \n",
      "1    Mediaindonesia.com  \n",
      "2    Mediaindonesia.com  \n",
      "3    Mediaindonesia.com  \n",
      "4    Mediaindonesia.com  \n",
      "..                  ...  \n",
      "210        Liputan6 RSS  \n",
      "211        Liputan6 RSS  \n",
      "212        Liputan6 RSS  \n",
      "213        Liputan6 RSS  \n",
      "214        Liputan6 RSS  \n",
      "\n",
      "[215 rows x 6 columns]\n"
     ]
    }
   ],
   "source": [
    "for u in feed:\n",
    "    source = u.feed.title\n",
    "    for i in u.entries:\n",
    "        conclean = i.content[0].value\n",
    "        conclean = cleanhtml(conclean)\n",
    "        #conclean = conclean[13:]\n",
    "        summa = cleanhtml(i.summary)\n",
    "        stru = i.published_parsed\n",
    "        dt = datetime.fromtimestamp(mktime(stru))\n",
    "        df = df.append({'title':i.title,'content':conclean,'summary':summa,'link':i.link,'published':dt,'source':source}, ignore_index=True)\n",
    "    \n",
    "    \n",
    "print(df)"
   ]
  },
  {
   "cell_type": "code",
   "execution_count": 32,
   "metadata": {},
   "outputs": [
    {
     "data": {
      "text/html": [
       "<div>\n",
       "<style scoped>\n",
       "    .dataframe tbody tr th:only-of-type {\n",
       "        vertical-align: middle;\n",
       "    }\n",
       "\n",
       "    .dataframe tbody tr th {\n",
       "        vertical-align: top;\n",
       "    }\n",
       "\n",
       "    .dataframe thead th {\n",
       "        text-align: right;\n",
       "    }\n",
       "</style>\n",
       "<table border=\"1\" class=\"dataframe\">\n",
       "  <thead>\n",
       "    <tr style=\"text-align: right;\">\n",
       "      <th></th>\n",
       "      <th>title</th>\n",
       "      <th>content</th>\n",
       "      <th>summary</th>\n",
       "      <th>link</th>\n",
       "      <th>published</th>\n",
       "    </tr>\n",
       "  </thead>\n",
       "  <tbody>\n",
       "    <tr>\n",
       "      <th>63</th>\n",
       "      <td>Mendagri Wanti-wanti Potensi Konflik Kepenting...</td>\n",
       "      <td>m Negeri (Mendagri) Tito Karnavian mengingatka...</td>\n",
       "      <td>MENDAGRI Dalam Negeri (Mendagri) Tito Karnavia...</td>\n",
       "      <td>https://mediaindonesia.com/read/detail/378316-...</td>\n",
       "      <td>2021-01-19 20:10:14</td>\n",
       "    </tr>\n",
       "  </tbody>\n",
       "</table>\n",
       "</div>"
      ],
      "text/plain": [
       "                                                title  \\\n",
       "63  Mendagri Wanti-wanti Potensi Konflik Kepenting...   \n",
       "\n",
       "                                              content  \\\n",
       "63  m Negeri (Mendagri) Tito Karnavian mengingatka...   \n",
       "\n",
       "                                              summary  \\\n",
       "63  MENDAGRI Dalam Negeri (Mendagri) Tito Karnavia...   \n",
       "\n",
       "                                                 link           published  \n",
       "63  https://mediaindonesia.com/read/detail/378316-... 2021-01-19 20:10:14  "
      ]
     },
     "execution_count": 32,
     "metadata": {},
     "output_type": "execute_result"
    }
   ],
   "source": [
    "df.sample()"
   ]
  },
  {
   "cell_type": "code",
   "execution_count": 50,
   "metadata": {},
   "outputs": [],
   "source": [
    "import datetime\n",
    "now = datetime.datetime.now()\n",
    "file = now.strftime(\"%d%m%Y\")\n",
    "\n",
    "name = \"rss\"+file+\".csv\"\n",
    "\n",
    "df.to_csv(name)"
   ]
  },
  {
   "cell_type": "code",
   "execution_count": null,
   "metadata": {},
   "outputs": [],
   "source": []
  }
 ],
 "metadata": {
  "kernelspec": {
   "display_name": "Python 3",
   "language": "python",
   "name": "python3"
  },
  "language_info": {
   "codemirror_mode": {
    "name": "ipython",
    "version": 3
   },
   "file_extension": ".py",
   "mimetype": "text/x-python",
   "name": "python",
   "nbconvert_exporter": "python",
   "pygments_lexer": "ipython3",
   "version": "3.6.12"
  }
 },
 "nbformat": 4,
 "nbformat_minor": 4
}
